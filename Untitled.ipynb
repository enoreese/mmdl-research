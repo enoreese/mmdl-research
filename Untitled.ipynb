{
 "cells": [
  {
   "cell_type": "code",
   "execution_count": 1,
   "id": "1f4b84b7-091d-40b1-a0e5-75b4942ddcf1",
   "metadata": {
    "collapsed": true,
    "jupyter": {
     "outputs_hidden": true
    },
    "tags": []
   },
   "outputs": [
    {
     "name": "stdout",
     "output_type": "stream",
     "text": [
      "Looking in indexes: https://pypi.org/simple, https://pip.repos.neuron.amazonaws.com\n",
      "Collecting synapseclient\n",
      "  Downloading synapseclient-2.7.2-py3-none-any.whl (218 kB)\n",
      "\u001b[2K     \u001b[90m━━━━━━━━━━━━━━━━━━━━━━━━━━━━━━━━━━━━━━\u001b[0m \u001b[32m218.3/218.3 kB\u001b[0m \u001b[31m11.2 MB/s\u001b[0m eta \u001b[36m0:00:00\u001b[0m\n",
      "\u001b[?25hRequirement already satisfied: requests<3.0,>=2.22.0 in /home/ec2-user/anaconda3/envs/python3/lib/python3.10/site-packages (from synapseclient) (2.29.0)\n",
      "Requirement already satisfied: urllib3<2 in /home/ec2-user/anaconda3/envs/python3/lib/python3.10/site-packages (from synapseclient) (1.26.14)\n",
      "Collecting keyring<23.5,>=15 (from synapseclient)\n",
      "  Downloading keyring-23.4.1-py3-none-any.whl (33 kB)\n",
      "Collecting deprecated<2.0,>=1.2.4 (from synapseclient)\n",
      "  Downloading Deprecated-1.2.14-py2.py3-none-any.whl (9.6 kB)\n",
      "Requirement already satisfied: importlib-metadata<5.0 in /home/ec2-user/anaconda3/envs/python3/lib/python3.10/site-packages (from synapseclient) (4.13.0)\n",
      "Collecting keyrings.alt==3.1 (from synapseclient)\n",
      "  Downloading keyrings.alt-3.1-py2.py3-none-any.whl (21 kB)\n",
      "Requirement already satisfied: six in /home/ec2-user/anaconda3/envs/python3/lib/python3.10/site-packages (from keyrings.alt==3.1->synapseclient) (1.16.0)\n",
      "Requirement already satisfied: wrapt<2,>=1.10 in /home/ec2-user/anaconda3/envs/python3/lib/python3.10/site-packages (from deprecated<2.0,>=1.2.4->synapseclient) (1.15.0)\n",
      "Requirement already satisfied: zipp>=0.5 in /home/ec2-user/anaconda3/envs/python3/lib/python3.10/site-packages (from importlib-metadata<5.0->synapseclient) (3.15.0)\n",
      "Requirement already satisfied: SecretStorage>=3.2 in /home/ec2-user/anaconda3/envs/python3/lib/python3.10/site-packages (from keyring<23.5,>=15->synapseclient) (3.3.3)\n",
      "Requirement already satisfied: jeepney>=0.4.2 in /home/ec2-user/anaconda3/envs/python3/lib/python3.10/site-packages (from keyring<23.5,>=15->synapseclient) (0.8.0)\n",
      "Requirement already satisfied: charset-normalizer<4,>=2 in /home/ec2-user/anaconda3/envs/python3/lib/python3.10/site-packages (from requests<3.0,>=2.22.0->synapseclient) (2.1.1)\n",
      "Requirement already satisfied: idna<4,>=2.5 in /home/ec2-user/anaconda3/envs/python3/lib/python3.10/site-packages (from requests<3.0,>=2.22.0->synapseclient) (3.4)\n",
      "Requirement already satisfied: certifi>=2017.4.17 in /home/ec2-user/anaconda3/envs/python3/lib/python3.10/site-packages (from requests<3.0,>=2.22.0->synapseclient) (2023.5.7)\n",
      "Requirement already satisfied: cryptography>=2.0 in /home/ec2-user/anaconda3/envs/python3/lib/python3.10/site-packages (from SecretStorage>=3.2->keyring<23.5,>=15->synapseclient) (40.0.2)\n",
      "Requirement already satisfied: cffi>=1.12 in /home/ec2-user/anaconda3/envs/python3/lib/python3.10/site-packages (from cryptography>=2.0->SecretStorage>=3.2->keyring<23.5,>=15->synapseclient) (1.15.1)\n",
      "Requirement already satisfied: pycparser in /home/ec2-user/anaconda3/envs/python3/lib/python3.10/site-packages (from cffi>=1.12->cryptography>=2.0->SecretStorage>=3.2->keyring<23.5,>=15->synapseclient) (2.21)\n",
      "Installing collected packages: keyrings.alt, deprecated, keyring, synapseclient\n",
      "  Attempting uninstall: keyring\n",
      "    Found existing installation: keyring 23.13.1\n",
      "    Uninstalling keyring-23.13.1:\n",
      "      Successfully uninstalled keyring-23.13.1\n",
      "Successfully installed deprecated-1.2.14 keyring-23.4.1 keyrings.alt-3.1 synapseclient-2.7.2\n"
     ]
    }
   ],
   "source": [
    "# !pip install synapseclient"
   ]
  },
  {
   "cell_type": "code",
   "execution_count": 2,
   "id": "cfbc9385-40c3-4f82-84bd-e4c3485653a4",
   "metadata": {
    "tags": []
   },
   "outputs": [],
   "source": [
    "# import synapseclient \n",
    "# import synapseutils "
   ]
  },
  {
   "cell_type": "code",
   "execution_count": 3,
   "id": "954052da-c127-441c-9130-187869835728",
   "metadata": {
    "tags": []
   },
   "outputs": [
    {
     "name": "stderr",
     "output_type": "stream",
     "text": [
      "[WARNING] Logging into Synapse via passwords will be deprecated by early 2024. This message will disappear if you use a Synapse Personal Access Token to login.\n"
     ]
    },
    {
     "name": "stdout",
     "output_type": "stream",
     "text": [
      "Welcome, sasu_searcher!\n",
      "\n"
     ]
    }
   ],
   "source": [
    "# syn = synapseclient.Synapse() \n",
    "# syn.login('sasu_searcher','SasuSynapse1')"
   ]
  },
  {
   "cell_type": "code",
   "execution_count": null,
   "id": "946fcaa5-d150-4239-b3bc-d4a4043fbc05",
   "metadata": {
    "tags": []
   },
   "outputs": [],
   "source": [
    "# files = synapseutils.syncFromSynapse(syn, 'syn25946117', path=\"/home/ec2-user/SageMaker/Data\")"
   ]
  },
  {
   "cell_type": "code",
   "execution_count": null,
   "id": "3a328135-53d0-4794-815b-8569fd512c93",
   "metadata": {},
   "outputs": [],
   "source": []
  }
 ],
 "metadata": {
  "kernelspec": {
   "display_name": "conda_python3",
   "language": "python",
   "name": "conda_python3"
  },
  "language_info": {
   "codemirror_mode": {
    "name": "ipython",
    "version": 3
   },
   "file_extension": ".py",
   "mimetype": "text/x-python",
   "name": "python",
   "nbconvert_exporter": "python",
   "pygments_lexer": "ipython3",
   "version": "3.10.10"
  }
 },
 "nbformat": 4,
 "nbformat_minor": 5
}
