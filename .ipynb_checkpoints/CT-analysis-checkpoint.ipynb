{
 "cells": [
  {
   "cell_type": "code",
   "execution_count": 2,
   "id": "13717d0e-14c1-4519-971a-c1943cb570dc",
   "metadata": {
    "collapsed": true,
    "jupyter": {
     "outputs_hidden": true
    },
    "tags": []
   },
   "outputs": [
    {
     "name": "stdout",
     "output_type": "stream",
     "text": [
      "Looking in indexes: https://pypi.org/simple, https://pip.repos.neuron.amazonaws.com\n",
      "Collecting medpy\n",
      "  Downloading MedPy-0.4.0.tar.gz (151 kB)\n",
      "\u001b[2K     \u001b[90m━━━━━━━━━━━━━━━━━━━━━━━━━━━━━━━━━━━━━━━\u001b[0m \u001b[32m151.8/151.8 kB\u001b[0m \u001b[31m9.8 MB/s\u001b[0m eta \u001b[36m0:00:00\u001b[0m\n",
      "\u001b[?25h  Preparing metadata (setup.py) ... \u001b[?25ldone\n",
      "\u001b[?25hRequirement already satisfied: scipy>=1.1.0 in /home/ec2-user/anaconda3/envs/pytorch_p310/lib/python3.10/site-packages (from medpy) (1.10.1)\n",
      "Requirement already satisfied: numpy>=1.11.0 in /home/ec2-user/anaconda3/envs/pytorch_p310/lib/python3.10/site-packages (from medpy) (1.24.3)\n",
      "Collecting SimpleITK>=1.1.0 (from medpy)\n",
      "  Downloading SimpleITK-2.2.1-cp310-cp310-manylinux_2_17_x86_64.manylinux2014_x86_64.whl (52.7 MB)\n",
      "\u001b[2K     \u001b[90m━━━━━━━━━━━━━━━━━━━━━━━━━━━━━━━━━━━━━━━━\u001b[0m \u001b[32m52.7/52.7 MB\u001b[0m \u001b[31m32.7 MB/s\u001b[0m eta \u001b[36m0:00:00\u001b[0m00:01\u001b[0m00:01\u001b[0m\n",
      "\u001b[?25hBuilding wheels for collected packages: medpy\n",
      "  Building wheel for medpy (setup.py) ... \u001b[?25ldone\n",
      "\u001b[?25h  Created wheel for medpy: filename=MedPy-0.4.0-py3-none-any.whl size=214946 sha256=345fbd5fc6dca0f4b0f164ffbeedcdd5ea8a2c74002bd8fff06f4a16a5f24ba1\n",
      "  Stored in directory: /home/ec2-user/.cache/pip/wheels/d4/32/c7/6380ab2edb8cca018d39a0f1d43250fd9791922c963117de46\n",
      "Successfully built medpy\n",
      "Installing collected packages: SimpleITK, medpy\n",
      "Successfully installed SimpleITK-2.2.1 medpy-0.4.0\n"
     ]
    }
   ],
   "source": [
    "# !pip install medpy"
   ]
  },
  {
   "cell_type": "code",
   "execution_count": 1,
   "id": "90cb0171-6ba5-49bc-aaa9-0de2ce5cb206",
   "metadata": {
    "tags": []
   },
   "outputs": [],
   "source": [
    "import pandas as pd\n",
    "import numpy as np\n",
    "import os\n",
    "import yaml\n",
    "\n",
    "from medpy.io import load, save\n",
    "from joblib import delayed, Parallel\n",
    "\n",
    "\n",
    "with open('onco-fusion/global_config.yaml', 'r') as f:\n",
    "    DATA_DIR = yaml.safe_load(f)['data_dir']"
   ]
  },
  {
   "cell_type": "code",
   "execution_count": 2,
   "id": "900a5201-7d2a-40c0-900c-bf457c16d1cc",
   "metadata": {
    "tags": []
   },
   "outputs": [],
   "source": [
    "LEVEL = 50\n",
    "WIDTH = 400\n",
    "LOWER_BOUND = LEVEL - WIDTH//2\n",
    "UPPER_BOUND = LEVEL + WIDTH//2\n",
    "INPUT_DATAFRAME_PATH = os.path.join(DATA_DIR, 'data/dataframes/ct_df.csv')"
   ]
  },
  {
   "cell_type": "code",
   "execution_count": 3,
   "id": "8240eaa2-ab98-4506-8819-b0509b895f5d",
   "metadata": {
    "tags": []
   },
   "outputs": [
    {
     "data": {
      "text/plain": [
       "(250, -150)"
      ]
     },
     "execution_count": 3,
     "metadata": {},
     "output_type": "execute_result"
    }
   ],
   "source": [
    "UPPER_BOUND, LOWER_BOUND"
   ]
  },
  {
   "cell_type": "code",
   "execution_count": 4,
   "id": "da807307-d030-4c80-87a0-5e85a8bf3821",
   "metadata": {
    "tags": []
   },
   "outputs": [],
   "source": [
    "def make_windowed(row):\n",
    "    \"\"\"\n",
    "    Given row of CT data frame, load MHD file, apply window, and save windowed version.\n",
    "    \"\"\"\n",
    "    input_tumor_img_fn = os.path.join(DATA_DIR, row['image_path'])\n",
    "    output_tumor_img_fn = os.path.join(DATA_DIR, row['windowed_image_path'])\n",
    "    try:\n",
    "        tumor_img, header = load(input_tumor_img_fn)\n",
    "        tumor_img = np.clip(tumor_img, a_min=LOWER_BOUND, a_max=UPPER_BOUND)\n",
    "        sub_dir = '/'.join(output_tumor_img_fn.split('/')[:-1])\n",
    "        if not os.path.exists(sub_dir):\n",
    "            os.mkdir(sub_dir)\n",
    "        save(tumor_img, output_tumor_img_fn, header)\n",
    "        print('{} succeeded'.format(input_tumor_img_fn))\n",
    "    except:\n",
    "        print('{} failed'.format(input_tumor_img_fn))\n"
   ]
  },
  {
   "cell_type": "code",
   "execution_count": 5,
   "id": "89f3e5a9-3f1d-48a3-823c-dd2bc9896f7d",
   "metadata": {
    "tags": []
   },
   "outputs": [],
   "source": [
    "df = pd.read_csv(INPUT_DATAFRAME_PATH)"
   ]
  },
  {
   "cell_type": "code",
   "execution_count": 6,
   "id": "7ff94429-28f3-4e3f-b74c-909b1f953192",
   "metadata": {
    "tags": []
   },
   "outputs": [
    {
     "data": {
      "text/html": [
       "<div>\n",
       "<style scoped>\n",
       "    .dataframe tbody tr th:only-of-type {\n",
       "        vertical-align: middle;\n",
       "    }\n",
       "\n",
       "    .dataframe tbody tr th {\n",
       "        vertical-align: top;\n",
       "    }\n",
       "\n",
       "    .dataframe thead th {\n",
       "        text-align: right;\n",
       "    }\n",
       "</style>\n",
       "<table border=\"1\" class=\"dataframe\">\n",
       "  <thead>\n",
       "    <tr style=\"text-align: right;\">\n",
       "      <th></th>\n",
       "      <th>Patient ID</th>\n",
       "      <th>CT Site</th>\n",
       "      <th>CT Vend.</th>\n",
       "      <th>Slice Thickness</th>\n",
       "      <th>kvP</th>\n",
       "      <th>mA</th>\n",
       "      <th>Segmenting Radiologist</th>\n",
       "      <th>R_ovary</th>\n",
       "      <th>L_ovary</th>\n",
       "      <th>Omentum</th>\n",
       "      <th>image_path</th>\n",
       "      <th>segmentation_path</th>\n",
       "      <th>windowed_image_path</th>\n",
       "    </tr>\n",
       "  </thead>\n",
       "  <tbody>\n",
       "    <tr>\n",
       "      <th>0</th>\n",
       "      <td>001</td>\n",
       "      <td>External</td>\n",
       "      <td>GE</td>\n",
       "      <td>5.0</td>\n",
       "      <td>120.0</td>\n",
       "      <td>range</td>\n",
       "      <td>EA</td>\n",
       "      <td>True</td>\n",
       "      <td>True</td>\n",
       "      <td>True</td>\n",
       "      <td>data/ct/mskcc/347437/ctimg.mhd</td>\n",
       "      <td>data/ct/mskcc/347437/segmentation.mha</td>\n",
       "      <td>data/ct/windowed_scans/347437/windowed_ctimg.mhd</td>\n",
       "    </tr>\n",
       "    <tr>\n",
       "      <th>1</th>\n",
       "      <td>003</td>\n",
       "      <td>MSKCC</td>\n",
       "      <td>GE</td>\n",
       "      <td>5.0</td>\n",
       "      <td>120.0</td>\n",
       "      <td>range</td>\n",
       "      <td>EA</td>\n",
       "      <td>True</td>\n",
       "      <td>True</td>\n",
       "      <td>True</td>\n",
       "      <td>data/ct/mskcc/347439/ctimg.mhd</td>\n",
       "      <td>data/ct/mskcc/347439/segmentation.mha</td>\n",
       "      <td>data/ct/windowed_scans/347439/windowed_ctimg.mhd</td>\n",
       "    </tr>\n",
       "    <tr>\n",
       "      <th>2</th>\n",
       "      <td>004</td>\n",
       "      <td>External</td>\n",
       "      <td>GE</td>\n",
       "      <td>5.0</td>\n",
       "      <td>120.0</td>\n",
       "      <td>range</td>\n",
       "      <td>EA</td>\n",
       "      <td>False</td>\n",
       "      <td>True</td>\n",
       "      <td>True</td>\n",
       "      <td>data/ct/mskcc/347440/ctimg.mhd</td>\n",
       "      <td>data/ct/mskcc/347440/segmentation.mha</td>\n",
       "      <td>data/ct/windowed_scans/347440/windowed_ctimg.mhd</td>\n",
       "    </tr>\n",
       "    <tr>\n",
       "      <th>3</th>\n",
       "      <td>005</td>\n",
       "      <td>External</td>\n",
       "      <td>GE</td>\n",
       "      <td>5.0</td>\n",
       "      <td>120.0</td>\n",
       "      <td>range</td>\n",
       "      <td>EA</td>\n",
       "      <td>False</td>\n",
       "      <td>True</td>\n",
       "      <td>True</td>\n",
       "      <td>data/ct/mskcc/347441/ctimg.mhd</td>\n",
       "      <td>data/ct/mskcc/347441/segmentation.mha</td>\n",
       "      <td>data/ct/windowed_scans/347441/windowed_ctimg.mhd</td>\n",
       "    </tr>\n",
       "    <tr>\n",
       "      <th>4</th>\n",
       "      <td>006</td>\n",
       "      <td>External</td>\n",
       "      <td>GE</td>\n",
       "      <td>5.0</td>\n",
       "      <td>120.0</td>\n",
       "      <td>250</td>\n",
       "      <td>EA</td>\n",
       "      <td>False</td>\n",
       "      <td>False</td>\n",
       "      <td>True</td>\n",
       "      <td>data/ct/mskcc/347442/ctimg.mhd</td>\n",
       "      <td>data/ct/mskcc/347442/segmentation.mha</td>\n",
       "      <td>data/ct/windowed_scans/347442/windowed_ctimg.mhd</td>\n",
       "    </tr>\n",
       "  </tbody>\n",
       "</table>\n",
       "</div>"
      ],
      "text/plain": [
       "  Patient ID   CT Site CT Vend.  Slice Thickness    kvP     mA  \\\n",
       "0        001  External       GE              5.0  120.0  range   \n",
       "1        003     MSKCC       GE              5.0  120.0  range   \n",
       "2        004  External       GE              5.0  120.0  range   \n",
       "3        005  External       GE              5.0  120.0  range   \n",
       "4        006  External       GE              5.0  120.0    250   \n",
       "\n",
       "  Segmenting Radiologist  R_ovary  L_ovary  Omentum  \\\n",
       "0                     EA     True     True     True   \n",
       "1                     EA     True     True     True   \n",
       "2                     EA    False     True     True   \n",
       "3                     EA    False     True     True   \n",
       "4                     EA    False    False     True   \n",
       "\n",
       "                       image_path                      segmentation_path  \\\n",
       "0  data/ct/mskcc/347437/ctimg.mhd  data/ct/mskcc/347437/segmentation.mha   \n",
       "1  data/ct/mskcc/347439/ctimg.mhd  data/ct/mskcc/347439/segmentation.mha   \n",
       "2  data/ct/mskcc/347440/ctimg.mhd  data/ct/mskcc/347440/segmentation.mha   \n",
       "3  data/ct/mskcc/347441/ctimg.mhd  data/ct/mskcc/347441/segmentation.mha   \n",
       "4  data/ct/mskcc/347442/ctimg.mhd  data/ct/mskcc/347442/segmentation.mha   \n",
       "\n",
       "                                windowed_image_path  \n",
       "0  data/ct/windowed_scans/347437/windowed_ctimg.mhd  \n",
       "1  data/ct/windowed_scans/347439/windowed_ctimg.mhd  \n",
       "2  data/ct/windowed_scans/347440/windowed_ctimg.mhd  \n",
       "3  data/ct/windowed_scans/347441/windowed_ctimg.mhd  \n",
       "4  data/ct/windowed_scans/347442/windowed_ctimg.mhd  "
      ]
     },
     "execution_count": 6,
     "metadata": {},
     "output_type": "execute_result"
    }
   ],
   "source": [
    "df.head()"
   ]
  },
  {
   "cell_type": "code",
   "execution_count": 7,
   "id": "92e38ecd-3d91-4716-9162-85e570e95e07",
   "metadata": {
    "tags": []
   },
   "outputs": [],
   "source": [
    "if not os.path.exists(os.path.join(DATA_DIR, 'data/ct/windowed_scans')):\n",
    "    os.mkdir(os.path.join(DATA_DIR, 'data/ct/windowed_scans'))"
   ]
  },
  {
   "cell_type": "code",
   "execution_count": 8,
   "id": "2901de40-da86-4dd7-9f39-d3dcc26d74cf",
   "metadata": {
    "tags": []
   },
   "outputs": [],
   "source": [
    "# make_windowed(df.iloc[0])"
   ]
  },
  {
   "cell_type": "code",
   "execution_count": 9,
   "id": "683a1e0d-8ad7-4a8c-8a82-888384582a80",
   "metadata": {
    "tags": []
   },
   "outputs": [],
   "source": [
    "if not os.path.exists(os.path.join(DATA_DIR, 'data/ct/png_scans')):\n",
    "    os.mkdir(os.path.join(DATA_DIR, 'data/ct/png_scans'))"
   ]
  },
  {
   "cell_type": "code",
   "execution_count": 10,
   "id": "1fe84514-4389-4baf-b584-0bfb1e9892f4",
   "metadata": {
    "tags": []
   },
   "outputs": [],
   "source": [
    "df['png_path'] = df['windowed_image_path'].apply(lambda x: x.replace('windowed_ctimg.mhd', 'png_scan.png'))\n",
    "df['png_path'] = df['png_path'].apply(lambda x: x.replace('windowed_scans', 'png_scans'))"
   ]
  },
  {
   "cell_type": "code",
   "execution_count": 11,
   "id": "ed21ddaa-8f3e-4998-b83b-a65b81bbd380",
   "metadata": {
    "tags": []
   },
   "outputs": [
    {
     "data": {
      "text/html": [
       "<div>\n",
       "<style scoped>\n",
       "    .dataframe tbody tr th:only-of-type {\n",
       "        vertical-align: middle;\n",
       "    }\n",
       "\n",
       "    .dataframe tbody tr th {\n",
       "        vertical-align: top;\n",
       "    }\n",
       "\n",
       "    .dataframe thead th {\n",
       "        text-align: right;\n",
       "    }\n",
       "</style>\n",
       "<table border=\"1\" class=\"dataframe\">\n",
       "  <thead>\n",
       "    <tr style=\"text-align: right;\">\n",
       "      <th></th>\n",
       "      <th>Patient ID</th>\n",
       "      <th>CT Site</th>\n",
       "      <th>CT Vend.</th>\n",
       "      <th>Slice Thickness</th>\n",
       "      <th>kvP</th>\n",
       "      <th>mA</th>\n",
       "      <th>Segmenting Radiologist</th>\n",
       "      <th>R_ovary</th>\n",
       "      <th>L_ovary</th>\n",
       "      <th>Omentum</th>\n",
       "      <th>image_path</th>\n",
       "      <th>segmentation_path</th>\n",
       "      <th>windowed_image_path</th>\n",
       "      <th>png_path</th>\n",
       "    </tr>\n",
       "  </thead>\n",
       "  <tbody>\n",
       "    <tr>\n",
       "      <th>0</th>\n",
       "      <td>001</td>\n",
       "      <td>External</td>\n",
       "      <td>GE</td>\n",
       "      <td>5.0</td>\n",
       "      <td>120.0</td>\n",
       "      <td>range</td>\n",
       "      <td>EA</td>\n",
       "      <td>True</td>\n",
       "      <td>True</td>\n",
       "      <td>True</td>\n",
       "      <td>data/ct/mskcc/347437/ctimg.mhd</td>\n",
       "      <td>data/ct/mskcc/347437/segmentation.mha</td>\n",
       "      <td>data/ct/windowed_scans/347437/windowed_ctimg.mhd</td>\n",
       "      <td>data/ct/png_scans/347437/png_scan.png</td>\n",
       "    </tr>\n",
       "    <tr>\n",
       "      <th>1</th>\n",
       "      <td>003</td>\n",
       "      <td>MSKCC</td>\n",
       "      <td>GE</td>\n",
       "      <td>5.0</td>\n",
       "      <td>120.0</td>\n",
       "      <td>range</td>\n",
       "      <td>EA</td>\n",
       "      <td>True</td>\n",
       "      <td>True</td>\n",
       "      <td>True</td>\n",
       "      <td>data/ct/mskcc/347439/ctimg.mhd</td>\n",
       "      <td>data/ct/mskcc/347439/segmentation.mha</td>\n",
       "      <td>data/ct/windowed_scans/347439/windowed_ctimg.mhd</td>\n",
       "      <td>data/ct/png_scans/347439/png_scan.png</td>\n",
       "    </tr>\n",
       "    <tr>\n",
       "      <th>2</th>\n",
       "      <td>004</td>\n",
       "      <td>External</td>\n",
       "      <td>GE</td>\n",
       "      <td>5.0</td>\n",
       "      <td>120.0</td>\n",
       "      <td>range</td>\n",
       "      <td>EA</td>\n",
       "      <td>False</td>\n",
       "      <td>True</td>\n",
       "      <td>True</td>\n",
       "      <td>data/ct/mskcc/347440/ctimg.mhd</td>\n",
       "      <td>data/ct/mskcc/347440/segmentation.mha</td>\n",
       "      <td>data/ct/windowed_scans/347440/windowed_ctimg.mhd</td>\n",
       "      <td>data/ct/png_scans/347440/png_scan.png</td>\n",
       "    </tr>\n",
       "    <tr>\n",
       "      <th>3</th>\n",
       "      <td>005</td>\n",
       "      <td>External</td>\n",
       "      <td>GE</td>\n",
       "      <td>5.0</td>\n",
       "      <td>120.0</td>\n",
       "      <td>range</td>\n",
       "      <td>EA</td>\n",
       "      <td>False</td>\n",
       "      <td>True</td>\n",
       "      <td>True</td>\n",
       "      <td>data/ct/mskcc/347441/ctimg.mhd</td>\n",
       "      <td>data/ct/mskcc/347441/segmentation.mha</td>\n",
       "      <td>data/ct/windowed_scans/347441/windowed_ctimg.mhd</td>\n",
       "      <td>data/ct/png_scans/347441/png_scan.png</td>\n",
       "    </tr>\n",
       "    <tr>\n",
       "      <th>4</th>\n",
       "      <td>006</td>\n",
       "      <td>External</td>\n",
       "      <td>GE</td>\n",
       "      <td>5.0</td>\n",
       "      <td>120.0</td>\n",
       "      <td>250</td>\n",
       "      <td>EA</td>\n",
       "      <td>False</td>\n",
       "      <td>False</td>\n",
       "      <td>True</td>\n",
       "      <td>data/ct/mskcc/347442/ctimg.mhd</td>\n",
       "      <td>data/ct/mskcc/347442/segmentation.mha</td>\n",
       "      <td>data/ct/windowed_scans/347442/windowed_ctimg.mhd</td>\n",
       "      <td>data/ct/png_scans/347442/png_scan.png</td>\n",
       "    </tr>\n",
       "  </tbody>\n",
       "</table>\n",
       "</div>"
      ],
      "text/plain": [
       "  Patient ID   CT Site CT Vend.  Slice Thickness    kvP     mA  \\\n",
       "0        001  External       GE              5.0  120.0  range   \n",
       "1        003     MSKCC       GE              5.0  120.0  range   \n",
       "2        004  External       GE              5.0  120.0  range   \n",
       "3        005  External       GE              5.0  120.0  range   \n",
       "4        006  External       GE              5.0  120.0    250   \n",
       "\n",
       "  Segmenting Radiologist  R_ovary  L_ovary  Omentum  \\\n",
       "0                     EA     True     True     True   \n",
       "1                     EA     True     True     True   \n",
       "2                     EA    False     True     True   \n",
       "3                     EA    False     True     True   \n",
       "4                     EA    False    False     True   \n",
       "\n",
       "                       image_path                      segmentation_path  \\\n",
       "0  data/ct/mskcc/347437/ctimg.mhd  data/ct/mskcc/347437/segmentation.mha   \n",
       "1  data/ct/mskcc/347439/ctimg.mhd  data/ct/mskcc/347439/segmentation.mha   \n",
       "2  data/ct/mskcc/347440/ctimg.mhd  data/ct/mskcc/347440/segmentation.mha   \n",
       "3  data/ct/mskcc/347441/ctimg.mhd  data/ct/mskcc/347441/segmentation.mha   \n",
       "4  data/ct/mskcc/347442/ctimg.mhd  data/ct/mskcc/347442/segmentation.mha   \n",
       "\n",
       "                                windowed_image_path  \\\n",
       "0  data/ct/windowed_scans/347437/windowed_ctimg.mhd   \n",
       "1  data/ct/windowed_scans/347439/windowed_ctimg.mhd   \n",
       "2  data/ct/windowed_scans/347440/windowed_ctimg.mhd   \n",
       "3  data/ct/windowed_scans/347441/windowed_ctimg.mhd   \n",
       "4  data/ct/windowed_scans/347442/windowed_ctimg.mhd   \n",
       "\n",
       "                                png_path  \n",
       "0  data/ct/png_scans/347437/png_scan.png  \n",
       "1  data/ct/png_scans/347439/png_scan.png  \n",
       "2  data/ct/png_scans/347440/png_scan.png  \n",
       "3  data/ct/png_scans/347441/png_scan.png  \n",
       "4  data/ct/png_scans/347442/png_scan.png  "
      ]
     },
     "execution_count": 11,
     "metadata": {},
     "output_type": "execute_result"
    }
   ],
   "source": [
    "df.head()"
   ]
  },
  {
   "cell_type": "code",
   "execution_count": 12,
   "id": "d87be334-4f24-4cd2-beab-49006102e885",
   "metadata": {
    "tags": []
   },
   "outputs": [],
   "source": [
    "tumor_img, header = load(os.path.join(DATA_DIR, 'data/ct/mskcc/347437/ctimg.mhd'))"
   ]
  },
  {
   "cell_type": "code",
   "execution_count": 14,
   "id": "6e601868-963d-4e92-835c-df95291ecaa3",
   "metadata": {
    "tags": []
   },
   "outputs": [
    {
     "data": {
      "text/plain": [
       "(512, 512, 91)"
      ]
     },
     "execution_count": 14,
     "metadata": {},
     "output_type": "execute_result"
    }
   ],
   "source": [
    "tumor_img.shape"
   ]
  },
  {
   "cell_type": "code",
   "execution_count": 22,
   "id": "516e67b4-bc24-42b3-a24e-a267177d8e09",
   "metadata": {
    "tags": []
   },
   "outputs": [
    {
     "name": "stdout",
     "output_type": "stream",
     "text": [
      "Looking in indexes: https://pypi.org/simple, https://pip.repos.neuron.amazonaws.com\n",
      "Requirement already satisfied: SimpleITK in /home/ec2-user/anaconda3/envs/pytorch_p310/lib/python3.10/site-packages (2.2.1)\n"
     ]
    }
   ],
   "source": [
    "# !pip install SimpleITK"
   ]
  },
  {
   "cell_type": "code",
   "execution_count": 23,
   "id": "9ba80d98-847d-4d18-8289-0c857cf5a4cb",
   "metadata": {
    "tags": []
   },
   "outputs": [
    {
     "name": "stdout",
     "output_type": "stream",
     "text": [
      "%pylab is deprecated, use %matplotlib inline and import the required libraries.\n",
      "Populating the interactive namespace from numpy and matplotlib\n"
     ]
    },
    {
     "name": "stderr",
     "output_type": "stream",
     "text": [
      "/home/ec2-user/anaconda3/envs/pytorch_p310/lib/python3.10/site-packages/IPython/core/magics/pylab.py:162: UserWarning: pylab import has clobbered these variables: ['save', 'load', 'f']\n",
      "`%matplotlib` prevents importing * from pylab and numpy\n",
      "  warn(\"pylab import has clobbered these variables: %s\"  % clobbered +\n"
     ]
    }
   ],
   "source": [
    "import os\n",
    "import numpy\n",
    "import SimpleITK\n",
    "import matplotlib.pyplot as plt\n",
    "%pylab inline"
   ]
  },
  {
   "cell_type": "code",
   "execution_count": 24,
   "id": "e7069fe1-b62f-4d4b-959b-393cb50e9a0a",
   "metadata": {
    "tags": []
   },
   "outputs": [],
   "source": [
    "def sitk_show(img, title=None, margin=0.05, dpi=40 ):\n",
    "    nda = SimpleITK.GetArrayFromImage(img)\n",
    "    spacing = img.GetSpacing()\n",
    "    figsize = (1 + margin) * nda.shape[0] / dpi, (1 + margin) * nda.shape[1] / dpi\n",
    "    extent = (0, nda.shape[1]*spacing[1], nda.shape[0]*spacing[0], 0)\n",
    "    fig = plt.figure(figsize=figsize, dpi=dpi)\n",
    "    ax = fig.add_axes([margin, margin, 1 - 2*margin, 1 - 2*margin])\n",
    "\n",
    "    plt.set_cmap(\"gray\")\n",
    "    ax.imshow(nda,extent=extent,interpolation=None)\n",
    "    \n",
    "    if title:\n",
    "        plt.title(title)\n",
    "    \n",
    "    plt.show()"
   ]
  },
  {
   "cell_type": "code",
   "execution_count": 25,
   "id": "912a410e-2e71-4a45-abd9-4eef8773575d",
   "metadata": {
    "tags": []
   },
   "outputs": [],
   "source": [
    "# Paths to the .mhd files\n",
    "filenameT1 = os.path.join(DATA_DIR, 'data/ct/mskcc/347437/ctimg.mhd')\n",
    "filenameT2 = os.path.join(DATA_DIR, 'data/ct/mskcc/347439/ctimg.mhd')\n",
    "\n",
    "# Slice index to visualize with 'sitk_show'\n",
    "idxSlice = 26\n",
    "\n",
    "# int label to assign to the segmented gray matter\n",
    "labelGrayMatter = 1"
   ]
  },
  {
   "cell_type": "code",
   "execution_count": 26,
   "id": "c025d040-ac73-4351-b2bd-eddcb49b3f51",
   "metadata": {
    "tags": []
   },
   "outputs": [],
   "source": [
    "imgT1Original = SimpleITK.ReadImage(filenameT1)\n",
    "imgT2Original = SimpleITK.ReadImage(filenameT2)"
   ]
  },
  {
   "cell_type": "code",
   "execution_count": 27,
   "id": "e08f0452-5ede-44d4-9a66-195b5388c0dc",
   "metadata": {
    "tags": []
   },
   "outputs": [
    {
     "data": {
      "image/png": "[encoded data removed]",
      "text/plain": [
       "<Figure size 537.6x1075.2 with 1 Axes>"
      ]
     },
     "metadata": {},
     "output_type": "display_data"
    }
   ],
   "source": [
    "sitk_show(SimpleITK.Tile(imgT1Original[:, :, idxSlice],\n",
    "                         imgT2Original[:, :, idxSlice],\n",
    "                         (2, 1, 0)))"
   ]
  },
  {
   "cell_type": "code",
   "execution_count": 30,
   "id": "0bffb6f7-d07e-4e04-b843-ffbb5ffacee6",
   "metadata": {
    "tags": []
   },
   "outputs": [
    {
     "data": {
      "text/plain": [
       "(512, 512, 91)"
      ]
     },
     "execution_count": 30,
     "metadata": {},
     "output_type": "execute_result"
    }
   ],
   "source": [
    "imgT1Original.GetSize()"
   ]
  },
  {
   "cell_type": "code",
   "execution_count": null,
   "id": "0d820ea8-779a-4a1c-8d89-0b1fde3d1a80",
   "metadata": {},
   "outputs": [],
   "source": []
  },
  {
   "cell_type": "code",
   "execution_count": null,
   "id": "e65df8d1-041d-4b51-95dd-527dd1711fc0",
   "metadata": {},
   "outputs": [],
   "source": []
  },
  {
   "cell_type": "code",
   "execution_count": null,
   "id": "4f53ccb5-647b-45a7-a693-dc45d89ea790",
   "metadata": {},
   "outputs": [],
   "source": []
  },
  {
   "cell_type": "code",
   "execution_count": null,
   "id": "d05a7e37-e4ba-4817-8c08-9c76fb5b339b",
   "metadata": {},
   "outputs": [],
   "source": []
  },
  {
   "cell_type": "code",
   "execution_count": null,
   "id": "21b96ea1-6afc-49b4-a8a1-c7e69d6e7f46",
   "metadata": {},
   "outputs": [],
   "source": []
  },
  {
   "cell_type": "code",
   "execution_count": null,
   "id": "bc841394-5b1d-4cb0-b3fe-c3c8765b8489",
   "metadata": {},
   "outputs": [],
   "source": []
  },
  {
   "cell_type": "code",
   "execution_count": null,
   "id": "b4acc153-502a-4548-9109-afb163f179fa",
   "metadata": {},
   "outputs": [],
   "source": []
  },
  {
   "cell_type": "code",
   "execution_count": null,
   "id": "8271b465-de58-47f7-bb66-e90670088347",
   "metadata": {},
   "outputs": [],
   "source": []
  },
  {
   "cell_type": "code",
   "execution_count": null,
   "id": "268f44e5-ee70-431d-82cd-36f1d04553bf",
   "metadata": {},
   "outputs": [],
   "source": []
  },
  {
   "cell_type": "code",
   "execution_count": 21,
   "id": "f62cb46c-bd2e-4a5f-b958-13fc38c1aad8",
   "metadata": {
    "tags": []
   },
   "outputs": [
    {
     "name": "stdout",
     "output_type": "stream",
     "text": [
      "/home/ec2-user/SageMaker/Data/data/ct/mskcc/347439/ctimg.mhd failed/home/ec2-user/SageMaker/Data/data/ct/mskcc/347437/ctimg.mhd failed\n",
      "\n",
      "/home/ec2-user/SageMaker/Data/data/ct/mskcc/347441/ctimg.mhd failed\n",
      "/home/ec2-user/SageMaker/Data/data/ct/mskcc/347440/ctimg.mhd failed\n",
      "/home/ec2-user/SageMaker/Data/data/ct/mskcc/347442/ctimg.mhd failed\n",
      "/home/ec2-user/SageMaker/Data/data/ct/mskcc/347443/ctimg.mhd failed\n",
      "/home/ec2-user/SageMaker/Data/data/ct/mskcc/347444/ctimg.mhd failed\n",
      "/home/ec2-user/SageMaker/Data/data/ct/mskcc/347447/ctimg.mhd failed\n",
      "/home/ec2-user/SageMaker/Data/data/ct/mskcc/347446/ctimg.mhd failed\n",
      "/home/ec2-user/SageMaker/Data/data/ct/mskcc/347448/ctimg.mhd failed\n",
      "/home/ec2-user/SageMaker/Data/data/ct/mskcc/347449/ctimg.mhd failed\n",
      "/home/ec2-user/SageMaker/Data/data/ct/mskcc/347450/ctimg.mhd failed\n",
      "/home/ec2-user/SageMaker/Data/data/ct/mskcc/347452/ctimg.mhd failed\n",
      "/home/ec2-user/SageMaker/Data/data/ct/mskcc/347451/ctimg.mhd failed\n",
      "/home/ec2-user/SageMaker/Data/data/ct/mskcc/347455/ctimg.mhd failed\n",
      "/home/ec2-user/SageMaker/Data/data/ct/mskcc/347454/ctimg.mhd failed\n",
      "/home/ec2-user/SageMaker/Data/data/ct/mskcc/347456/ctimg.mhd failed\n",
      "/home/ec2-user/SageMaker/Data/data/ct/mskcc/347457/ctimg.mhd failed\n",
      "/home/ec2-user/SageMaker/Data/data/ct/mskcc/347458/ctimg.mhd failed\n",
      "/home/ec2-user/SageMaker/Data/data/ct/mskcc/347461/ctimg.mhd failed\n",
      "/home/ec2-user/SageMaker/Data/data/ct/mskcc/347463/ctimg.mhd failed\n",
      "/home/ec2-user/SageMaker/Data/data/ct/mskcc/347464/ctimg.mhd failed\n",
      "/home/ec2-user/SageMaker/Data/data/ct/mskcc/347466/ctimg.mhd failed\n",
      "/home/ec2-user/SageMaker/Data/data/ct/mskcc/347467/ctimg.mhd failed\n",
      "/home/ec2-user/SageMaker/Data/data/ct/mskcc/347469/ctimg.mhd failed\n",
      "/home/ec2-user/SageMaker/Data/data/ct/mskcc/347470/ctimg.mhd failed\n",
      "/home/ec2-user/SageMaker/Data/data/ct/mskcc/347471/ctimg.mhd failed\n",
      "/home/ec2-user/SageMaker/Data/data/ct/mskcc/347472/ctimg.mhd failed\n",
      "/home/ec2-user/SageMaker/Data/data/ct/mskcc/347473/ctimg.mhd failed\n",
      "/home/ec2-user/SageMaker/Data/data/ct/mskcc/374142/ctimg.mhd failed\n",
      "/home/ec2-user/SageMaker/Data/data/ct/mskcc/374143/ctimg.mhd failed\n",
      "/home/ec2-user/SageMaker/Data/data/ct/mskcc/347481/ctimg.mhd failed\n",
      "/home/ec2-user/SageMaker/Data/data/ct/mskcc/347483/ctimg.mhd failed\n",
      "/home/ec2-user/SageMaker/Data/data/ct/mskcc/374149/ctimg.mhd failed\n",
      "/home/ec2-user/SageMaker/Data/data/ct/mskcc/347485/ctimg.mhd failed\n",
      "/home/ec2-user/SageMaker/Data/data/ct/mskcc/347486/ctimg.mhd failed\n",
      "/home/ec2-user/SageMaker/Data/data/ct/mskcc/347490/ctimg.mhd failed\n",
      "/home/ec2-user/SageMaker/Data/data/ct/mskcc/347491/ctimg.mhd failed\n",
      "/home/ec2-user/SageMaker/Data/data/ct/mskcc/347492/ctimg.mhd failed\n",
      "/home/ec2-user/SageMaker/Data/data/ct/mskcc/347496/ctimg.mhd failed\n",
      "/home/ec2-user/SageMaker/Data/data/ct/mskcc/347495/ctimg.mhd failed\n",
      "/home/ec2-user/SageMaker/Data/data/ct/mskcc/347497/ctimg.mhd failed\n",
      "/home/ec2-user/SageMaker/Data/data/ct/mskcc/347498/ctimg.mhd failed\n",
      "/home/ec2-user/SageMaker/Data/data/ct/mskcc/347499/ctimg.mhd failed\n",
      "/home/ec2-user/SageMaker/Data/data/ct/mskcc/347500/ctimg.mhd failed\n",
      "/home/ec2-user/SageMaker/Data/data/ct/mskcc/347501/ctimg.mhd failed\n",
      "/home/ec2-user/SageMaker/Data/data/ct/mskcc/347503/ctimg.mhd failed\n",
      "/home/ec2-user/SageMaker/Data/data/ct/mskcc/347504/ctimg.mhd failed\n",
      "/home/ec2-user/SageMaker/Data/data/ct/mskcc/347505/ctimg.mhd failed\n",
      "/home/ec2-user/SageMaker/Data/data/ct/mskcc/347506/ctimg.mhd failed\n",
      "/home/ec2-user/SageMaker/Data/data/ct/mskcc/347507/ctimg.mhd failed\n",
      "/home/ec2-user/SageMaker/Data/data/ct/mskcc/347509/ctimg.mhd failed\n",
      "/home/ec2-user/SageMaker/Data/data/ct/mskcc/347510/ctimg.mhd failed\n",
      "/home/ec2-user/SageMaker/Data/data/ct/mskcc/347511/ctimg.mhd failed\n",
      "/home/ec2-user/SageMaker/Data/data/ct/mskcc/347512/ctimg.mhd failed\n",
      "/home/ec2-user/SageMaker/Data/data/ct/mskcc/374177/ctimg.mhd failed\n",
      "/home/ec2-user/SageMaker/Data/data/ct/mskcc/347514/ctimg.mhd failed\n",
      "/home/ec2-user/SageMaker/Data/data/ct/mskcc/347515/ctimg.mhd failed\n",
      "/home/ec2-user/SageMaker/Data/data/ct/mskcc/347516/ctimg.mhd failed\n",
      "/home/ec2-user/SageMaker/Data/data/ct/mskcc/347521/ctimg.mhd failed\n",
      "/home/ec2-user/SageMaker/Data/data/ct/mskcc/347519/ctimg.mhd failed\n",
      "/home/ec2-user/SageMaker/Data/data/ct/mskcc/347523/ctimg.mhd failed\n",
      "/home/ec2-user/SageMaker/Data/data/ct/mskcc/347524/ctimg.mhd failed\n",
      "/home/ec2-user/SageMaker/Data/data/ct/mskcc/347526/ctimg.mhd failed\n",
      "/home/ec2-user/SageMaker/Data/data/ct/mskcc/347525/ctimg.mhd failed\n"
     ]
    },
    {
     "ename": "KeyboardInterrupt",
     "evalue": "",
     "output_type": "error",
     "traceback": [
      "\u001b[0;31m---------------------------------------------------------------------------\u001b[0m",
      "\u001b[0;31mKeyboardInterrupt\u001b[0m                         Traceback (most recent call last)",
      "Cell \u001b[0;32mIn[21], line 1\u001b[0m\n\u001b[0;32m----> 1\u001b[0m \u001b[43mParallel\u001b[49m\u001b[43m(\u001b[49m\u001b[43mn_jobs\u001b[49m\u001b[38;5;241;43m=\u001b[39;49m\u001b[38;5;241;43m2\u001b[39;49m\u001b[43m)\u001b[49m\u001b[43m(\u001b[49m\u001b[43mdelayed\u001b[49m\u001b[43m(\u001b[49m\u001b[43mmake_windowed\u001b[49m\u001b[43m)\u001b[49m\u001b[43m(\u001b[49m\u001b[43mrow\u001b[49m\u001b[43m)\u001b[49m\u001b[43m \u001b[49m\u001b[38;5;28;43;01mfor\u001b[39;49;00m\u001b[43m \u001b[49m\u001b[43midx\u001b[49m\u001b[43m,\u001b[49m\u001b[43m \u001b[49m\u001b[43mrow\u001b[49m\u001b[43m \u001b[49m\u001b[38;5;129;43;01min\u001b[39;49;00m\u001b[43m \u001b[49m\u001b[43mdf\u001b[49m\u001b[38;5;241;43m.\u001b[39;49m\u001b[43miterrows\u001b[49m\u001b[43m(\u001b[49m\u001b[43m)\u001b[49m\u001b[43m)\u001b[49m\n",
      "File \u001b[0;32m~/anaconda3/envs/pytorch_p310/lib/python3.10/site-packages/joblib/parallel.py:1098\u001b[0m, in \u001b[0;36mParallel.__call__\u001b[0;34m(self, iterable)\u001b[0m\n\u001b[1;32m   1095\u001b[0m     \u001b[38;5;28mself\u001b[39m\u001b[38;5;241m.\u001b[39m_iterating \u001b[38;5;241m=\u001b[39m \u001b[38;5;28;01mFalse\u001b[39;00m\n\u001b[1;32m   1097\u001b[0m \u001b[38;5;28;01mwith\u001b[39;00m \u001b[38;5;28mself\u001b[39m\u001b[38;5;241m.\u001b[39m_backend\u001b[38;5;241m.\u001b[39mretrieval_context():\n\u001b[0;32m-> 1098\u001b[0m     \u001b[38;5;28;43mself\u001b[39;49m\u001b[38;5;241;43m.\u001b[39;49m\u001b[43mretrieve\u001b[49m\u001b[43m(\u001b[49m\u001b[43m)\u001b[49m\n\u001b[1;32m   1099\u001b[0m \u001b[38;5;66;03m# Make sure that we get a last message telling us we are done\u001b[39;00m\n\u001b[1;32m   1100\u001b[0m elapsed_time \u001b[38;5;241m=\u001b[39m time\u001b[38;5;241m.\u001b[39mtime() \u001b[38;5;241m-\u001b[39m \u001b[38;5;28mself\u001b[39m\u001b[38;5;241m.\u001b[39m_start_time\n",
      "File \u001b[0;32m~/anaconda3/envs/pytorch_p310/lib/python3.10/site-packages/joblib/parallel.py:975\u001b[0m, in \u001b[0;36mParallel.retrieve\u001b[0;34m(self)\u001b[0m\n\u001b[1;32m    973\u001b[0m \u001b[38;5;28;01mtry\u001b[39;00m:\n\u001b[1;32m    974\u001b[0m     \u001b[38;5;28;01mif\u001b[39;00m \u001b[38;5;28mgetattr\u001b[39m(\u001b[38;5;28mself\u001b[39m\u001b[38;5;241m.\u001b[39m_backend, \u001b[38;5;124m'\u001b[39m\u001b[38;5;124msupports_timeout\u001b[39m\u001b[38;5;124m'\u001b[39m, \u001b[38;5;28;01mFalse\u001b[39;00m):\n\u001b[0;32m--> 975\u001b[0m         \u001b[38;5;28mself\u001b[39m\u001b[38;5;241m.\u001b[39m_output\u001b[38;5;241m.\u001b[39mextend(\u001b[43mjob\u001b[49m\u001b[38;5;241;43m.\u001b[39;49m\u001b[43mget\u001b[49m\u001b[43m(\u001b[49m\u001b[43mtimeout\u001b[49m\u001b[38;5;241;43m=\u001b[39;49m\u001b[38;5;28;43mself\u001b[39;49m\u001b[38;5;241;43m.\u001b[39;49m\u001b[43mtimeout\u001b[49m\u001b[43m)\u001b[49m)\n\u001b[1;32m    976\u001b[0m     \u001b[38;5;28;01melse\u001b[39;00m:\n\u001b[1;32m    977\u001b[0m         \u001b[38;5;28mself\u001b[39m\u001b[38;5;241m.\u001b[39m_output\u001b[38;5;241m.\u001b[39mextend(job\u001b[38;5;241m.\u001b[39mget())\n",
      "File \u001b[0;32m~/anaconda3/envs/pytorch_p310/lib/python3.10/site-packages/joblib/_parallel_backends.py:567\u001b[0m, in \u001b[0;36mLokyBackend.wrap_future_result\u001b[0;34m(future, timeout)\u001b[0m\n\u001b[1;32m    564\u001b[0m \u001b[38;5;250m\u001b[39m\u001b[38;5;124;03m\"\"\"Wrapper for Future.result to implement the same behaviour as\u001b[39;00m\n\u001b[1;32m    565\u001b[0m \u001b[38;5;124;03mAsyncResults.get from multiprocessing.\"\"\"\u001b[39;00m\n\u001b[1;32m    566\u001b[0m \u001b[38;5;28;01mtry\u001b[39;00m:\n\u001b[0;32m--> 567\u001b[0m     \u001b[38;5;28;01mreturn\u001b[39;00m \u001b[43mfuture\u001b[49m\u001b[38;5;241;43m.\u001b[39;49m\u001b[43mresult\u001b[49m\u001b[43m(\u001b[49m\u001b[43mtimeout\u001b[49m\u001b[38;5;241;43m=\u001b[39;49m\u001b[43mtimeout\u001b[49m\u001b[43m)\u001b[49m\n\u001b[1;32m    568\u001b[0m \u001b[38;5;28;01mexcept\u001b[39;00m CfTimeoutError \u001b[38;5;28;01mas\u001b[39;00m e:\n\u001b[1;32m    569\u001b[0m     \u001b[38;5;28;01mraise\u001b[39;00m \u001b[38;5;167;01mTimeoutError\u001b[39;00m \u001b[38;5;28;01mfrom\u001b[39;00m \u001b[38;5;21;01me\u001b[39;00m\n",
      "File \u001b[0;32m~/anaconda3/envs/pytorch_p310/lib/python3.10/concurrent/futures/_base.py:453\u001b[0m, in \u001b[0;36mFuture.result\u001b[0;34m(self, timeout)\u001b[0m\n\u001b[1;32m    450\u001b[0m \u001b[38;5;28;01melif\u001b[39;00m \u001b[38;5;28mself\u001b[39m\u001b[38;5;241m.\u001b[39m_state \u001b[38;5;241m==\u001b[39m FINISHED:\n\u001b[1;32m    451\u001b[0m     \u001b[38;5;28;01mreturn\u001b[39;00m \u001b[38;5;28mself\u001b[39m\u001b[38;5;241m.\u001b[39m__get_result()\n\u001b[0;32m--> 453\u001b[0m \u001b[38;5;28;43mself\u001b[39;49m\u001b[38;5;241;43m.\u001b[39;49m\u001b[43m_condition\u001b[49m\u001b[38;5;241;43m.\u001b[39;49m\u001b[43mwait\u001b[49m\u001b[43m(\u001b[49m\u001b[43mtimeout\u001b[49m\u001b[43m)\u001b[49m\n\u001b[1;32m    455\u001b[0m \u001b[38;5;28;01mif\u001b[39;00m \u001b[38;5;28mself\u001b[39m\u001b[38;5;241m.\u001b[39m_state \u001b[38;5;129;01min\u001b[39;00m [CANCELLED, CANCELLED_AND_NOTIFIED]:\n\u001b[1;32m    456\u001b[0m     \u001b[38;5;28;01mraise\u001b[39;00m CancelledError()\n",
      "File \u001b[0;32m~/anaconda3/envs/pytorch_p310/lib/python3.10/threading.py:320\u001b[0m, in \u001b[0;36mCondition.wait\u001b[0;34m(self, timeout)\u001b[0m\n\u001b[1;32m    318\u001b[0m \u001b[38;5;28;01mtry\u001b[39;00m:    \u001b[38;5;66;03m# restore state no matter what (e.g., KeyboardInterrupt)\u001b[39;00m\n\u001b[1;32m    319\u001b[0m     \u001b[38;5;28;01mif\u001b[39;00m timeout \u001b[38;5;129;01mis\u001b[39;00m \u001b[38;5;28;01mNone\u001b[39;00m:\n\u001b[0;32m--> 320\u001b[0m         \u001b[43mwaiter\u001b[49m\u001b[38;5;241;43m.\u001b[39;49m\u001b[43macquire\u001b[49m\u001b[43m(\u001b[49m\u001b[43m)\u001b[49m\n\u001b[1;32m    321\u001b[0m         gotit \u001b[38;5;241m=\u001b[39m \u001b[38;5;28;01mTrue\u001b[39;00m\n\u001b[1;32m    322\u001b[0m     \u001b[38;5;28;01melse\u001b[39;00m:\n",
      "\u001b[0;31mKeyboardInterrupt\u001b[0m: "
     ]
    }
   ],
   "source": [
    "Parallel(n_jobs=2)(delayed(make_windowed)(row) for idx, row in df.iterrows())"
   ]
  },
  {
   "cell_type": "code",
   "execution_count": null,
   "id": "9f2d4279-b50a-4a77-94d1-ff5ae6b3d5ff",
   "metadata": {},
   "outputs": [],
   "source": []
  }
 ],
 "metadata": {
  "kernelspec": {
   "display_name": "conda_pytorch_p310",
   "language": "python",
   "name": "conda_pytorch_p310"
  },
  "language_info": {
   "codemirror_mode": {
    "name": "ipython",
    "version": 3
   },
   "file_extension": ".py",
   "mimetype": "text/x-python",
   "name": "python",
   "nbconvert_exporter": "python",
   "pygments_lexer": "ipython3",
   "version": "3.10.10"
  }
 },
 "nbformat": 4,
 "nbformat_minor": 5
}
